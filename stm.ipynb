{
 "cells": [
  {
   "cell_type": "raw",
   "id": "8b579609",
   "metadata": {},
   "source": [
    "---\n",
    "title: \"STM\"\n",
    "author: \"Jilung Hsieh\"\n",
    "date: \"`r Sys.Date()`\"\n",
    "output: \n",
    "  html_document: \n",
    "    toc: yes\n",
    "    highlight: zenburn\n",
    "    fig_width: 8\n",
    "    fig_height: 4\n",
    "    fig_caption: yes\n",
    "    df_print: tibble\n",
    "    params:\n",
    "        output_dir:\"html\"\n",
    "---"
   ]
  },
  {
   "cell_type": "markdown",
   "id": "1b7df2e8",
   "metadata": {},
   "source": [
    "# STM Tutorials\n",
    "\n",
    "-   <https://juliasilge.com/blog/sherlock-holmes-stm/>\n",
    "-   [RPubs - stm_course](https://rpubs.com/Rawrion/669023)\n",
    "\n",
    "# Setups"
   ]
  },
  {
   "cell_type": "code",
   "execution_count": null,
   "id": "eaaa2bbf",
   "metadata": {
    "name": "loading-pkgs"
   },
   "outputs": [],
   "source": [
    "knitr::opts_chunk$set(echo = TRUE, cache = T)\n",
    "pkgs <- c(\"LDAvis\", \"tidyverse\", \"jiebaR\", \"igraph\", \"stm\", \"wordcloud\")\n",
    "install.packages(pkgs[!pkgs %in% installed.packages()]) \n",
    "library(tidyverse)\n",
    "library(tidyr) \n",
    "options(scipen = 999)"
   ]
  },
  {
   "cell_type": "code",
   "execution_count": null,
   "id": "1409918b",
   "metadata": {},
   "outputs": [],
   "source": [
    "load(\"data/s3_watched.rda\")\n",
    "Sys.setlocale(locale=\"zh_TW.UTF-8\")\n"
   ]
  },
  {
   "cell_type": "code",
   "execution_count": null,
   "id": "024276d3",
   "metadata": {
    "name": "initial-jieba"
   },
   "outputs": [],
   "source": [
    "library(jiebaR)\n",
    "stopWords <- readRDS(\"data/stopWords.rds\")\n",
    "segment_not <- c(\"爸爸\", \"爸媽\", \"新手\")\n",
    "watched <- c(\"爸爸\",\"父親\",\"老公\",\"先生\",\"丈夫\",\"奶爸\",\"寶爸\",\"隊友\",\n",
    "             \"爹地\",\"爸比\",\"把拔\",\"把鼻\",\"老爸\",\"另一半\",\"拔拔\",\n",
    "             \"孩子的爸\",\"孩子爸\", \"爸拔\",\"他爸\",\"她爸\",\"新手爸\",\"版爸\",\n",
    "             \"板爸\",\"我家男人\",\"當爸的\",\"腦公\",\"阿爸\",\"人父\",\"孩子的爹\",\n",
    "             \"孩子爹\",\"老爹\",\"外子\",\"拔比\",\"爸鼻\",\"爸把\",\"爸逼\",\"爸咪\",\n",
    "             \"把爸\",\"拔爸\",\"爹低\",\"帥爸\",\"準爸\",\"小孩爸\",\"親爸\",\"神爸\",\n",
    "             \"宅爸\",\"瓶餵爸\",\"寶寶的爸\",\"孩的爸\",\"女兒的爸\")\n",
    "\n",
    "reserved <- c(\"神隊友\", \"豬隊友\", \"好隊友\", \"好先生\", \"好爸爸\", \"好老公\")\n",
    "\n",
    "watched <- c(watched, reserved)\n",
    "\n",
    "watched.str <- paste0(watched, collapse = \"|\")\n",
    "\n",
    "\n",
    "reserved <- c(\"神隊友\", \"豬隊友\", \"好隊友\", \"好先生\", \"好爸爸\", \"好老公\")\n",
    "\n",
    "cutter <- worker()\n",
    "tagger <- worker(\"tag\")\n",
    "new_user_word(cutter, segment_not)\n",
    "new_user_word(cutter, watched)\n",
    "new_user_word(tagger, segment_not)\n",
    "new_user_word(tagger, watched)"
   ]
  },
  {
   "cell_type": "markdown",
   "id": "739b499a",
   "metadata": {},
   "source": [
    "# Pre-processing\n",
    "\n",
    "## Tokenization"
   ]
  },
  {
   "cell_type": "code",
   "execution_count": null,
   "id": "d21f55ef",
   "metadata": {},
   "outputs": [],
   "source": [
    "unnested.df <- s3.watched %>%\n",
    "    # filter(str_detect(sentence, \"隊友\")) %>%\n",
    "    mutate(word = purrr::map(s3, function(x)segment(x, cutter))) %>%\n",
    "    unnest(word) %>%\n",
    "    anti_join(stopWords) %>%\n",
    "    filter(!str_detect(word, \"[a-zA-Z0-9]+\")) %>%\n",
    "    filter(!is.na(word)) %>%\n",
    "    group_by(word) %>%\n",
    "    filter(n() > 5) %>%\n",
    "    ungroup() %>%\n",
    "    filter(nchar(word) > 1)"
   ]
  },
  {
   "cell_type": "markdown",
   "id": "fdf3353c",
   "metadata": {},
   "source": [
    "## Building dfm"
   ]
  },
  {
   "cell_type": "code",
   "execution_count": null,
   "id": "f499e53a",
   "metadata": {
    "name": "dfm"
   },
   "outputs": [],
   "source": [
    "library(tidytext)\n",
    "# library(quanteda)\n",
    "dfm <- unnested.df %>%\n",
    "    count(doc_id, word, sort = TRUE) %>%\n",
    "    cast_dfm(doc_id, word, n) #tidytext"
   ]
  },
  {
   "cell_type": "markdown",
   "id": "002ba9d8",
   "metadata": {},
   "source": [
    "# STM"
   ]
  },
  {
   "cell_type": "code",
   "execution_count": null,
   "id": "202c84a1",
   "metadata": {
    "name": "stm"
   },
   "outputs": [],
   "source": [
    "library(stm)\n",
    "topic_model <- stm(dfm, K = 12, verbose = F)\n",
    "save(topic_model, file=\"output/tm02_s3_k12.rda\")\n",
    "load(\"output/tm02_s3_k12.rda\")"
   ]
  },
  {
   "cell_type": "code",
   "execution_count": null,
   "id": "c2401e37",
   "metadata": {
    "name": "summary-of"
   },
   "outputs": [],
   "source": [
    "summary(topic_model)\n",
    "# print(topic_model)"
   ]
  },
  {
   "cell_type": "code",
   "execution_count": null,
   "id": "5bbc83a4",
   "metadata": {
    "name": "topic-corr"
   },
   "outputs": [],
   "source": [
    "library(igraph)\n",
    "mod.out.corr <- topicCorr(topic_model)\n",
    "# install.packages(\"wordcloud\")\n",
    "\n",
    "cloud(topic_model, topic = 7, scale = c(4,.5), family = \"Heiti TC Light\")\n",
    "\n",
    "plot(mod.out.corr)\n",
    "mod.out.corr"
   ]
  },
  {
   "cell_type": "markdown",
   "id": "26bb4159",
   "metadata": {},
   "source": [
    "## LDAvis\n",
    "\n",
    "See Sievert, C., & Shirley, K. (2014). LDAvis: A method for visualizing and interpreting topics. *Proceedings of the Workshop on Interactive Language Learning, Visualization, and Interfaces*. Proceedings of the Workshop on Interactive Language Learning, Visualization, and Interfaces, Baltimore, Maryland, USA. <https://doi.org/10.3115/v1/w14-3110>\n",
    "\n",
    "1.  saliency(term w) = frequency(w) \\* [sum_t p(t \\| w) \\* log(p(t \\| w)/p(t))] for topics t; see Chuang et. al (2012)\n",
    "\n",
    "<!-- -->\n",
    "\n",
    "2.  relevance(term w \\| topic t) = λ \\* p(w \\| t) + (1 - λ) \\* p(w \\| t)/p(w); see Sievert & Shirley (2014). Lift: p(w\\|t)/p(w) = p(w and t)/(p(w)p(t))"
   ]
  },
  {
   "cell_type": "code",
   "execution_count": null,
   "id": "c65d12ab",
   "metadata": {
    "name": "toLDAvis"
   },
   "outputs": [],
   "source": [
    "stm.doc <- quanteda::convert(dfm, to = \"stm\")\n",
    "toLDAvis(topic_model, stm.doc$documents)"
   ]
  },
  {
   "cell_type": "code",
   "execution_count": null,
   "id": "335375d9",
   "metadata": {},
   "outputs": [],
   "source": [
    "# topics <- c(\"隊友\", \"生產經驗\", \"Mothering\", \"大寶\",\n",
    "#             \"先生\", \"夫妻之間\", \"神隊友\", \"好隊友\", \"豬隊友\", \n",
    "#             \"育兒溝通\", \"婆婆\", \"爸爸\")\n",
    "labelTopics(topic_model)\n",
    "??labelTopics \n",
    "findThoughts(topic_model)\n",
    "??findThoughts"
   ]
  }
 ],
 "metadata": {
  "jupytext": {
   "cell_metadata_filter": "name,-all",
   "main_language": "R",
   "notebook_metadata_filter": "-all"
  }
 },
 "nbformat": 4,
 "nbformat_minor": 5
}
